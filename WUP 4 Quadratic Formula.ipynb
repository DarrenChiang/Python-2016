{
 "cells": [
  {
   "cell_type": "code",
   "execution_count": 21,
   "metadata": {
    "collapsed": false
   },
   "outputs": [
    {
     "data": {
      "text/plain": [
       "'This program computes the solution of the quadratic formula. Input the coefficients of the equation: ax^2 + bx = c.\\nEX: a = 1, b = 3, c = 8\\n'"
      ]
     },
     "execution_count": 21,
     "metadata": {},
     "output_type": "execute_result"
    }
   ],
   "source": [
    "\"\"\"This program computes the solution of the quadratic formula. Input the coefficients of the equation: ax^2 + bx = c.\n",
    "EX: a = 1, b = 3, c = 8\n",
    "\"\"\""
   ]
  },
  {
   "cell_type": "code",
   "execution_count": 29,
   "metadata": {
    "collapsed": false
   },
   "outputs": [
    {
     "name": "stdout",
     "output_type": "stream",
     "text": [
      "Please enter a: \n"
     ]
    }
   ],
   "source": [
    "print(\"Please enter a: \")"
   ]
  },
  {
   "cell_type": "code",
   "execution_count": 30,
   "metadata": {
    "collapsed": false
   },
   "outputs": [
    {
     "name": "stdout",
     "output_type": "stream",
     "text": [
      "1\n"
     ]
    }
   ],
   "source": [
    "a = float(input())"
   ]
  },
  {
   "cell_type": "code",
   "execution_count": 31,
   "metadata": {
    "collapsed": false
   },
   "outputs": [
    {
     "name": "stdout",
     "output_type": "stream",
     "text": [
      "Please enter b: \n"
     ]
    }
   ],
   "source": [
    "print(\"Please enter b: \")"
   ]
  },
  {
   "cell_type": "code",
   "execution_count": null,
   "metadata": {
    "collapsed": false
   },
   "outputs": [],
   "source": [
    "b = float(input())"
   ]
  },
  {
   "cell_type": "code",
   "execution_count": 26,
   "metadata": {
    "collapsed": false
   },
   "outputs": [
    {
     "name": "stdout",
     "output_type": "stream",
     "text": [
      "Please enter c: \n"
     ]
    }
   ],
   "source": [
    "print(\"Please enter c: \")"
   ]
  },
  {
   "cell_type": "code",
   "execution_count": 27,
   "metadata": {
    "collapsed": false
   },
   "outputs": [
    {
     "name": "stdout",
     "output_type": "stream",
     "text": [
      "4\n"
     ]
    }
   ],
   "source": [
    "c = float(input())"
   ]
  },
  {
   "cell_type": "code",
   "execution_count": 28,
   "metadata": {
    "collapsed": false
   },
   "outputs": [
    {
     "name": "stdout",
     "output_type": "stream",
     "text": [
      "The solution is -2.0.\n"
     ]
    }
   ],
   "source": [
    "if ((b ** 2) - (4 * a * c)) >= 0 :\n",
    "    num1 = -b + pow(((b ** 2) - (4 * a * c)), 0.5)\n",
    "    num2 = -b - pow(((b ** 2) - (4 * a * c)), 0.5)\n",
    "    den = 2 * a\n",
    "    \n",
    "    ans1 = num1 / den\n",
    "    ans2 = num2 / den\n",
    "    \n",
    "    if ans1 == ans2 :\n",
    "        print(\"The solution is \" + str(ans1) + \".\")\n",
    "    else :\n",
    "        print(\"The solutions are \" + str(ans1) + \" and \" + str(ans2) + \".\")\n",
    "else :\n",
    "    print(\"No solutions.\")"
   ]
  },
  {
   "cell_type": "code",
   "execution_count": null,
   "metadata": {
    "collapsed": true
   },
   "outputs": [],
   "source": []
  }
 ],
 "metadata": {
  "kernelspec": {
   "display_name": "Python [Root]",
   "language": "python",
   "name": "Python [Root]"
  },
  "language_info": {
   "codemirror_mode": {
    "name": "ipython",
    "version": 3
   },
   "file_extension": ".py",
   "mimetype": "text/x-python",
   "name": "python",
   "nbconvert_exporter": "python",
   "pygments_lexer": "ipython3",
   "version": "3.5.2"
  }
 },
 "nbformat": 4,
 "nbformat_minor": 0
}
