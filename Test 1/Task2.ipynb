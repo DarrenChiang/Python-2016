{
 "cells": [
  {
   "cell_type": "code",
   "execution_count": 28,
   "metadata": {
    "collapsed": true
   },
   "outputs": [],
   "source": [
    "# This program uses two points on a coordinate plane to find the equations of a straight line that passes through them.\n",
    "# The user has to enter the x and y values for point 1 and point 2.\n",
    "# The program will give the equation in standard, slope-intercept, and point-slope forms."
   ]
  },
  {
   "cell_type": "code",
   "execution_count": 60,
   "metadata": {
    "collapsed": true
   },
   "outputs": [],
   "source": [
    "import sys"
   ]
  },
  {
   "cell_type": "code",
   "execution_count": 61,
   "metadata": {
    "collapsed": false
   },
   "outputs": [
    {
     "name": "stdout",
     "output_type": "stream",
     "text": [
      "Enter the value of x in point 1: 4\n"
     ]
    }
   ],
   "source": [
    "x1 = int(input(\"Enter the value of x in point 1: \"))"
   ]
  },
  {
   "cell_type": "code",
   "execution_count": 62,
   "metadata": {
    "collapsed": false
   },
   "outputs": [
    {
     "name": "stdout",
     "output_type": "stream",
     "text": [
      "Enter the value of y in point 1: 5\n"
     ]
    }
   ],
   "source": [
    "y1 = int(input(\"Enter the value of y in point 1: \"))"
   ]
  },
  {
   "cell_type": "code",
   "execution_count": 63,
   "metadata": {
    "collapsed": false
   },
   "outputs": [
    {
     "name": "stdout",
     "output_type": "stream",
     "text": [
      "Enter the value of x in point 2: 6\n"
     ]
    }
   ],
   "source": [
    "x2 = int(input(\"Enter the value of x in point 2: \"))"
   ]
  },
  {
   "cell_type": "code",
   "execution_count": 64,
   "metadata": {
    "collapsed": false
   },
   "outputs": [
    {
     "name": "stdout",
     "output_type": "stream",
     "text": [
      "Enter the value of y in point 2: 3\n"
     ]
    }
   ],
   "source": [
    "y2 = int(input(\"Enter the value of y in point 2: \"))"
   ]
  },
  {
   "cell_type": "code",
   "execution_count": 65,
   "metadata": {
    "collapsed": true
   },
   "outputs": [],
   "source": [
    "# The slope of the line is given by the change in y over the change in x, also known as the rise over run."
   ]
  },
  {
   "cell_type": "code",
   "execution_count": 66,
   "metadata": {
    "collapsed": true
   },
   "outputs": [],
   "source": [
    "if (x2 - x1) == 0 :\n",
    "    print(\"x = \" + str(x1))\n",
    "    print(\"Not a function.\")\n",
    "    sys.exit()\n",
    "    \n",
    "slope = (y2 - y1) / (x2 - x1)\n",
    "\n",
    "if slope == 0 :\n",
    "    print(\"y = \" + str(y1))\n",
    "    sys.exit()"
   ]
  },
  {
   "cell_type": "code",
   "execution_count": 67,
   "metadata": {
    "collapsed": true
   },
   "outputs": [],
   "source": [
    "# The slope can be used to get the slope-interecept form of the equation by plugging numbers in: y = mx + b\n",
    "# It's important to terminate the program if the slope turns out to be 0 or undefined, as some equations won't exist.\n",
    "# Since y and x is given (we can use point 1 or point 2), we just have to find b now."
   ]
  },
  {
   "cell_type": "code",
   "execution_count": 68,
   "metadata": {
    "collapsed": true
   },
   "outputs": [],
   "source": [
    "b = y1 - x1 * slope"
   ]
  },
  {
   "cell_type": "code",
   "execution_count": 69,
   "metadata": {
    "collapsed": true
   },
   "outputs": [],
   "source": [
    "if b > 0 :\n",
    "    slopeIntercept = \"y = \" + str(slope) + \"x + \" + str(int(b))\n",
    "elif b < 0 :\n",
    "    slopeIntercept = \"y = \" + str(slope) + \"x - \" + str(int(-b))\n",
    "elif b == 0 :\n",
    "    slopeIntercept = \"y = \" + str(slope) + \"x\""
   ]
  },
  {
   "cell_type": "code",
   "execution_count": 70,
   "metadata": {
    "collapsed": true
   },
   "outputs": [],
   "source": [
    "# The point-slope form directly uses the definition of slopes in the equation.\n",
    "# If (y - y1)/(x - x1) = m, then multiplying both sides be (x - x1) should work.\n",
    "# The result should be y - y1 = m(x - x1)"
   ]
  },
  {
   "cell_type": "code",
   "execution_count": 74,
   "metadata": {
    "collapsed": false
   },
   "outputs": [],
   "source": [
    "if y1 > 0 :\n",
    "    pointSlope = \"y - \" + str(int(y1)) + \" = \" + str(slope)\n",
    "elif y1 < 0 :\n",
    "    pointSlope = \"y + \" + str(int(-y1)) + \" = \" + str(slope)\n",
    "elif y1 == 0 :\n",
    "    pointSlope = \"y = \" + str(slope)\n",
    "if x1 > 0 :\n",
    "    pointSlope += \"(x - \" + str(int(x1)) + \")\"\n",
    "elif x1 < 0 :\n",
    "    pointSlope += \"(x + \" + str(int(-x1)) + \")\"\n",
    "elif x1 == 0 :\n",
    "    pointSlope += \"x\"\n",
    "        \n"
   ]
  },
  {
   "cell_type": "code",
   "execution_count": 75,
   "metadata": {
    "collapsed": true
   },
   "outputs": [],
   "source": [
    "# The standard form of the equation relies heavily on x and y intercepts. It has the form of ax + by = c.\n",
    "# Since the user won't always enter the x and y intercept values, it's better to find the standard form after finding\n",
    "# another form, like the slope-intercept form."
   ]
  },
  {
   "cell_type": "code",
   "execution_count": 76,
   "metadata": {
    "collapsed": true
   },
   "outputs": [],
   "source": [
    "num = y2 - y1"
   ]
  },
  {
   "cell_type": "code",
   "execution_count": 77,
   "metadata": {
    "collapsed": true
   },
   "outputs": [],
   "source": [
    "den = x2 - x1 "
   ]
  },
  {
   "cell_type": "code",
   "execution_count": 81,
   "metadata": {
    "collapsed": false
   },
   "outputs": [],
   "source": [
    "if num > 0 :\n",
    "    standard = str(int(num)) + \"x \"\n",
    "    if den > 0 :\n",
    "        standard += \"- \" + str(int(den)) + \"y = \" + str(int(-b * den))\n",
    "    elif den < 0 :\n",
    "        standard += \"+ \" + str(int(-den)) + \"y = \" + str(int(-b * den))\n",
    "elif num < 0 :\n",
    "    standard = str(int(-num)) + \"x \"\n",
    "    if den > 0 :\n",
    "        standard += \"+ \" + str(int(den)) + \"y = \" + str(int(b * den))\n",
    "    elif den < 0 :\n",
    "        standard += \"- \" + str(int(-den)) + \"y = \" + str(int(b * den))"
   ]
  },
  {
   "cell_type": "code",
   "execution_count": 82,
   "metadata": {
    "collapsed": false
   },
   "outputs": [
    {
     "name": "stdout",
     "output_type": "stream",
     "text": [
      "Standard Form: 2x + 2y = 18\n",
      "Slope-Intercept Form: y = -1.0x + 9\n",
      "Point-Slope Form: y - 5 = -1.0(x - 4)\n"
     ]
    }
   ],
   "source": [
    "print(\"Standard Form: \" + standard)\n",
    "print(\"Slope-Intercept Form: \" + slopeIntercept)\n",
    "print(\"Point-Slope Form: \" + pointSlope)"
   ]
  },
  {
   "cell_type": "code",
   "execution_count": null,
   "metadata": {
    "collapsed": true
   },
   "outputs": [],
   "source": [
    "# All the if and elif statements aren't necessary to the logic of the program.\n",
    "# They're focused on preventing things like 4 + - 2 and turning them into 4 - 2."
   ]
  }
 ],
 "metadata": {
  "kernelspec": {
   "display_name": "Python [Root]",
   "language": "python",
   "name": "Python [Root]"
  },
  "language_info": {
   "codemirror_mode": {
    "name": "ipython",
    "version": 3
   },
   "file_extension": ".py",
   "mimetype": "text/x-python",
   "name": "python",
   "nbconvert_exporter": "python",
   "pygments_lexer": "ipython3",
   "version": "3.5.2"
  }
 },
 "nbformat": 4,
 "nbformat_minor": 0
}
