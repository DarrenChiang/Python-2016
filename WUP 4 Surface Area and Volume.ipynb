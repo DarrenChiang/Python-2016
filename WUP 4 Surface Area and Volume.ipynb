{
 "cells": [
  {
   "cell_type": "markdown",
   "metadata": {},
   "source": [
    "\"\"\"\n",
    "This program computes the surface area and volume of 5 figures. The input is the length of the edges of the cubes that all five figures are composed of.\n",
    "\"\"\""
   ]
  },
  {
   "cell_type": "code",
   "execution_count": 30,
   "metadata": {
    "collapsed": false,
    "scrolled": true
   },
   "outputs": [
    {
     "data": {
      "text/plain": [
       "'The program first asks for the length of the edge of the cubes. The numeric variable is named length.\\nEX: length = int(input(8)) (Try to use integers.)\\n'"
      ]
     },
     "execution_count": 30,
     "metadata": {},
     "output_type": "execute_result"
    }
   ],
   "source": [
    "\"\"\"The program first asks for the length of the edge of the cubes. The numeric variable is named length.\n",
    "EX: length = int(input(8)) (Try to use integers.)\n",
    "\"\"\""
   ]
  },
  {
   "cell_type": "code",
   "execution_count": 24,
   "metadata": {
    "collapsed": false
   },
   "outputs": [
    {
     "name": "stdout",
     "output_type": "stream",
     "text": [
      "8\n"
     ]
    }
   ],
   "source": [
    "length = int(input())"
   ]
  },
  {
   "cell_type": "code",
   "execution_count": 5,
   "metadata": {
    "collapsed": false
   },
   "outputs": [
    {
     "data": {
      "text/plain": [
       "\"The program starts on the first figure's surface area.\""
      ]
     },
     "execution_count": 5,
     "metadata": {},
     "output_type": "execute_result"
    }
   ],
   "source": [
    "\"\"\"The program starts on the first figure's surface area and volume.\"\"\""
   ]
  },
  {
   "cell_type": "code",
   "execution_count": 25,
   "metadata": {
    "collapsed": false
   },
   "outputs": [],
   "source": [
    "sa1 = ((2 * length) ** 2) + (4 * (length * 2) * length)"
   ]
  },
  {
   "cell_type": "code",
   "execution_count": 28,
   "metadata": {
    "collapsed": false
   },
   "outputs": [],
   "source": [
    "vol1 = ((2 * length) ** 2) * length"
   ]
  },
  {
   "cell_type": "code",
   "execution_count": 29,
   "metadata": {
    "collapsed": false
   },
   "outputs": [
    {
     "name": "stdout",
     "output_type": "stream",
     "text": [
      "Figure 1\n",
      "Surface Area: 768\n",
      "Volume: 2048\n"
     ]
    }
   ],
   "source": [
    "print(\"Figure 1\")\n",
    "print(\"Surface Area: \" + str(sa1))\n",
    "print(\"Volume: \" + str(vol1))"
   ]
  },
  {
   "cell_type": "code",
   "execution_count": 23,
   "metadata": {
    "collapsed": false
   },
   "outputs": [
    {
     "data": {
      "text/plain": [
       "'The program will then do the same for the other figures, each calculation dependent on their shapes.'"
      ]
     },
     "execution_count": 23,
     "metadata": {},
     "output_type": "execute_result"
    }
   ],
   "source": [
    "\"\"\"The program will then do the same for the other figures, each calculation dependent on their shapes.\"\"\""
   ]
  },
  {
   "cell_type": "code",
   "execution_count": 31,
   "metadata": {
    "collapsed": true
   },
   "outputs": [],
   "source": [
    "sa2 = 18 * (length ** 2)"
   ]
  },
  {
   "cell_type": "code",
   "execution_count": 34,
   "metadata": {
    "collapsed": false
   },
   "outputs": [
    {
     "name": "stdout",
     "output_type": "stream",
     "text": [
      "Figure 1\n",
      "Surface Area: 1152\n",
      "Volume: 2048\n"
     ]
    }
   ],
   "source": [
    "print(\"Figure 2\")\n",
    "print(\"Surface Area: \" + str(sa2))\n",
    "print(\"Volume: \" + str(vol1))"
   ]
  },
  {
   "cell_type": "code",
   "execution_count": 36,
   "metadata": {
    "collapsed": false
   },
   "outputs": [],
   "source": [
    "sa3 = (2 * (length ** 2)) + (4 * (length * (length * 4)))"
   ]
  },
  {
   "cell_type": "code",
   "execution_count": 37,
   "metadata": {
    "collapsed": false
   },
   "outputs": [
    {
     "name": "stdout",
     "output_type": "stream",
     "text": [
      "Figure 2\n",
      "Surface Area: 1152\n",
      "Volume: 2048\n"
     ]
    }
   ],
   "source": [
    "print(\"Figure 3\")\n",
    "print(\"Surface Area: \" + str(sa3))\n",
    "print(\"Volume: \" + str(vol1))"
   ]
  },
  {
   "cell_type": "code",
   "execution_count": 38,
   "metadata": {
    "collapsed": true
   },
   "outputs": [],
   "source": [
    "sa4 = sa2"
   ]
  },
  {
   "cell_type": "code",
   "execution_count": 39,
   "metadata": {
    "collapsed": false
   },
   "outputs": [
    {
     "name": "stdout",
     "output_type": "stream",
     "text": [
      "Figure 3\n",
      "Surface Area: 1152\n",
      "Volume: 2048\n"
     ]
    }
   ],
   "source": [
    "print(\"Figure 4\")\n",
    "print(\"Surface Area: \" + str(sa4))\n",
    "print(\"Volume: \" + str(vol1))"
   ]
  },
  {
   "cell_type": "code",
   "execution_count": 40,
   "metadata": {
    "collapsed": true
   },
   "outputs": [],
   "source": [
    "sa5 = sa4"
   ]
  },
  {
   "cell_type": "code",
   "execution_count": 41,
   "metadata": {
    "collapsed": false
   },
   "outputs": [
    {
     "name": "stdout",
     "output_type": "stream",
     "text": [
      "Figure 5\n",
      "Surface Area: 1152\n",
      "Volume: 2048\n"
     ]
    }
   ],
   "source": [
    "print(\"Figure 5\")\n",
    "print(\"Surface Area: \" + str(sa5))\n",
    "print(\"Volume: \" + str(vol1))"
   ]
  },
  {
   "cell_type": "code",
   "execution_count": null,
   "metadata": {
    "collapsed": true
   },
   "outputs": [],
   "source": []
  }
 ],
 "metadata": {
  "kernelspec": {
   "display_name": "Python [Root]",
   "language": "python",
   "name": "Python [Root]"
  },
  "language_info": {
   "codemirror_mode": {
    "name": "ipython",
    "version": 3
   },
   "file_extension": ".py",
   "mimetype": "text/x-python",
   "name": "python",
   "nbconvert_exporter": "python",
   "pygments_lexer": "ipython3",
   "version": "3.5.2"
  }
 },
 "nbformat": 4,
 "nbformat_minor": 0
}
